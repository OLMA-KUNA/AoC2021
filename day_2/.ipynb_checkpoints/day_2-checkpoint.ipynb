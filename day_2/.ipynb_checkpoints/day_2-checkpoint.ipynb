{
 "cells": [
  {
   "cell_type": "code",
   "execution_count": 1,
   "metadata": {},
   "outputs": [],
   "source": [
    "# Open the input file and save it in a list\n",
    "f = open('test.txt', 'r+')\n",
    "my_data = f.read().splitlines()\n",
    "f.close()"
   ]
  },
  {
   "cell_type": "code",
   "execution_count": 2,
   "metadata": {},
   "outputs": [
    {
     "data": {
      "text/plain": [
       "8"
      ]
     },
     "execution_count": 2,
     "metadata": {},
     "output_type": "execute_result"
    }
   ],
   "source": [
    "# To get the number value we get the last element of string and cast it to integer, e.g.:\n",
    "int(my_data[2][-1:])"
   ]
  },
  {
   "cell_type": "code",
   "execution_count": 3,
   "metadata": {},
   "outputs": [
    {
     "data": {
      "text/plain": [
       "150"
      ]
     },
     "execution_count": 3,
     "metadata": {},
     "output_type": "execute_result"
    }
   ],
   "source": [
    "# First part\n",
    "horizontal = 0\n",
    "depth = 0\n",
    "for i in range (0,len(my_data)):\n",
    "    if 'forward' in my_data[i]:\n",
    "        horizontal += int(my_data[i][-1:])\n",
    "    elif 'down' in my_data[i]:\n",
    "        depth += int(my_data[i][-1:])\n",
    "    elif 'up' in my_data[i]:\n",
    "        depth -= int(my_data[i][-1:])\n",
    "\n",
    "result1 = horizontal*depth\n",
    "result1"
   ]
  },
  {
   "cell_type": "code",
   "execution_count": 4,
   "metadata": {},
   "outputs": [
    {
     "data": {
      "text/plain": [
       "900"
      ]
     },
     "execution_count": 4,
     "metadata": {},
     "output_type": "execute_result"
    }
   ],
   "source": [
    "# Second part\n",
    "horizontal = 0\n",
    "depth = 0\n",
    "aim = 0\n",
    "for i in range (0,len(my_data)):\n",
    "    if 'forward' in my_data[i]:\n",
    "        horizontal += int(my_data[i][-1:])\n",
    "        depth = depth + aim*int(my_data[i][-1:])\n",
    "    elif 'down' in my_data[i]:\n",
    "        aim += int(my_data[i][-1:])\n",
    "    elif 'up' in my_data[i]:\n",
    "        aim -= int(my_data[i][-1:])\n",
    "\n",
    "result2 = horizontal*depth\n",
    "result2"
   ]
  }
 ],
 "metadata": {
  "kernelspec": {
   "display_name": "Python 3",
   "language": "python",
   "name": "python3"
  },
  "language_info": {
   "codemirror_mode": {
    "name": "ipython",
    "version": 3
   },
   "file_extension": ".py",
   "mimetype": "text/x-python",
   "name": "python",
   "nbconvert_exporter": "python",
   "pygments_lexer": "ipython3",
   "version": "3.7.3"
  }
 },
 "nbformat": 4,
 "nbformat_minor": 2
}
