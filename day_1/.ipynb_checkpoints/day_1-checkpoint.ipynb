{
 "cells": [
  {
   "cell_type": "code",
   "execution_count": 1,
   "metadata": {},
   "outputs": [
    {
     "data": {
      "text/plain": [
       "210"
      ]
     },
     "execution_count": 1,
     "metadata": {},
     "output_type": "execute_result"
    }
   ],
   "source": [
    "# Read the input file\n",
    "# Save the input in an array and turn the string values to integers\n",
    "\n",
    "f = open('test.txt', 'r+')\n",
    "my_data = f.read().splitlines()\n",
    "f.close()\n",
    "my_data_list = [int(numeric_string) for numeric_string in my_data]\n",
    "my_data_list[3]"
   ]
  },
  {
   "cell_type": "code",
   "execution_count": 2,
   "metadata": {},
   "outputs": [
    {
     "data": {
      "text/plain": [
       "7"
      ]
     },
     "execution_count": 2,
     "metadata": {},
     "output_type": "execute_result"
    }
   ],
   "source": [
    "# First part\n",
    "def count_increases(my_data_list):\n",
    "    increases = 0\n",
    "    for i in range(1,len(my_data_list)):\n",
    "        if my_data_list[i]>my_data_list[i-1]:\n",
    "            increases+=1\n",
    "    return increases\n",
    "\n",
    "answer1 = count_increases(my_data_list)\n",
    "answer1"
   ]
  },
  {
   "cell_type": "code",
   "execution_count": 3,
   "metadata": {},
   "outputs": [],
   "source": [
    "# Second part\n",
    "def count_sum(list):\n",
    "    sum_list = []\n",
    "    i = 0\n",
    "    while ((len(list)-i)>2):\n",
    "        sum_list.append(list[i]+list[i+1]+list[i+2])\n",
    "        i += 1\n",
    "    return sum_list\n"
   ]
  },
  {
   "cell_type": "code",
   "execution_count": 4,
   "metadata": {},
   "outputs": [
    {
     "data": {
      "text/plain": [
       "5"
      ]
     },
     "execution_count": 4,
     "metadata": {},
     "output_type": "execute_result"
    }
   ],
   "source": [
    "my_data_list_sums = count_sum(my_data_list)\n",
    "answer2 = count_increases(my_data_list_sums)\n",
    "answer2"
   ]
  }
 ],
 "metadata": {
  "kernelspec": {
   "display_name": "Python 3",
   "language": "python",
   "name": "python3"
  },
  "language_info": {
   "codemirror_mode": {
    "name": "ipython",
    "version": 3
   },
   "file_extension": ".py",
   "mimetype": "text/x-python",
   "name": "python",
   "nbconvert_exporter": "python",
   "pygments_lexer": "ipython3",
   "version": "3.7.3"
  }
 },
 "nbformat": 4,
 "nbformat_minor": 2
}
