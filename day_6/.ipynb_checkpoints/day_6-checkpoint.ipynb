{
 "cells": [
  {
   "cell_type": "code",
   "execution_count": null,
   "metadata": {},
   "outputs": [],
   "source": [
    "f = open('test.txt', 'r+')\n",
    "my_data = f.read().split(\",\")\n",
    "f.close()\n",
    "my_data_list = [int(numeric_string) for numeric_string in my_data]\n",
    "print(my_data_list)"
   ]
  },
  {
   "cell_type": "code",
   "execution_count": null,
   "metadata": {},
   "outputs": [],
   "source": [
    "counter = [0,0,0,0,0,0,0,0,0]\n",
    "days = 80 # 256\n",
    "for i in range(9):\n",
    "    counter[i]=my_data_list.count(i)\n",
    "print(counter)"
   ]
  },
  {
   "cell_type": "code",
   "execution_count": null,
   "metadata": {},
   "outputs": [],
   "source": [
    "for j in range(days):\n",
    "    answer = [0,0,0,0,0,0,0,0,0]\n",
    "    for x in range(1,len(counter)):\n",
    "        answer[x-1] = counter[x]\n",
    "    answer[8] += counter[0]\n",
    "    answer[6] += counter[0]\n",
    "    counter = answer\n",
    "print(sum(answer))"
   ]
  }
 ],
 "metadata": {
  "kernelspec": {
   "display_name": "Python 3",
   "language": "python",
   "name": "python3"
  },
  "language_info": {
   "codemirror_mode": {
    "name": "ipython",
    "version": 3
   },
   "file_extension": ".py",
   "mimetype": "text/x-python",
   "name": "python",
   "nbconvert_exporter": "python",
   "pygments_lexer": "ipython3",
   "version": "3.7.3"
  }
 },
 "nbformat": 4,
 "nbformat_minor": 2
}
