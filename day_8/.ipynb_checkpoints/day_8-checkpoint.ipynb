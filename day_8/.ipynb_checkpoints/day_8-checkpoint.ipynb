{
 "cells": [
  {
   "cell_type": "code",
   "execution_count": 1,
   "metadata": {},
   "outputs": [],
   "source": [
    "f = open('test.txt', 'r+')\n",
    "data = f.read().splitlines()\n",
    "f.close()"
   ]
  },
  {
   "cell_type": "code",
   "execution_count": 2,
   "metadata": {},
   "outputs": [
    {
     "name": "stdout",
     "output_type": "stream",
     "text": [
      "26\n"
     ]
    }
   ],
   "source": [
    "# Part 1\n",
    "count = 0\n",
    "for i in data:\n",
    "    x = i.split(\"|\")[1].split()\n",
    "    for j in x:\n",
    "        if len(j) in (2,3,4,7):\n",
    "            count +=1\n",
    "print(count)"
   ]
  },
  {
   "cell_type": "code",
   "execution_count": 3,
   "metadata": {},
   "outputs": [],
   "source": [
    "# If str contains the complete set\n",
    "def check_in(str, set):\n",
    "    return 0 not in [c in str\n",
    "   for c in set ]"
   ]
  },
  {
   "cell_type": "code",
   "execution_count": 4,
   "metadata": {},
   "outputs": [],
   "source": [
    "def decifer(str):\n",
    "    arr = [\"\"]*10\n",
    "    for i in str:\n",
    "        if len(i)==2:\n",
    "            arr[1]=i\n",
    "        elif len(i)==3:\n",
    "            arr[7]=i\n",
    "        elif len(i)==4:\n",
    "            arr[4]=i\n",
    "        elif len(i)==7:\n",
    "            arr[8]=i\n",
    "    for i in str:\n",
    "        if len(i)==6 and check_in(i,arr[4]):\n",
    "            arr[9]=i     \n",
    "        elif len(i)==6 and check_in(i,arr[1]):\n",
    "            arr[0]=i\n",
    "        elif len(i)==6:\n",
    "            arr[6]=i\n",
    "    for i in str:\n",
    "        if len(i)==5 and check_in(i,arr[1]):\n",
    "            arr[3]=i\n",
    "        elif len(i)==5 and check_in(arr[6],i):\n",
    "            arr[5]=i  \n",
    "        elif len(i)==5:\n",
    "            arr[2]=i \n",
    "    return arr"
   ]
  },
  {
   "cell_type": "code",
   "execution_count": 5,
   "metadata": {},
   "outputs": [],
   "source": [
    "def get_ind(substr, arr):\n",
    "    for i in range(len(arr)):\n",
    "        if check_in(arr[i],substr) and len(arr[i])==len(substr):\n",
    "            return i"
   ]
  },
  {
   "cell_type": "code",
   "execution_count": 6,
   "metadata": {},
   "outputs": [
    {
     "name": "stdout",
     "output_type": "stream",
     "text": [
      "8394\n",
      "9781\n",
      "1197\n",
      "9361\n",
      "4873\n",
      "8418\n",
      "4548\n",
      "1625\n",
      "8717\n",
      "4315\n"
     ]
    },
    {
     "data": {
      "text/plain": [
       "61229"
      ]
     },
     "execution_count": 6,
     "metadata": {},
     "output_type": "execute_result"
    }
   ],
   "source": [
    "# Part 2\n",
    "count = 0\n",
    "\n",
    "for i in data:\n",
    "    t0 = i.split(\"|\")[0].split()\n",
    "    t1 = i.split(\"|\")[1].split()\n",
    "    num = decifer(t0)\n",
    "    #print(t1)\n",
    "    answ = \"\"\n",
    "    for j in t1:\n",
    "        y = get_ind(j,num)\n",
    "        answ += str(y)\n",
    "    print(answ)\n",
    "    count += int(answ)\n",
    "count"
   ]
  }
 ],
 "metadata": {
  "kernelspec": {
   "display_name": "Python 3",
   "language": "python",
   "name": "python3"
  },
  "language_info": {
   "codemirror_mode": {
    "name": "ipython",
    "version": 3
   },
   "file_extension": ".py",
   "mimetype": "text/x-python",
   "name": "python",
   "nbconvert_exporter": "python",
   "pygments_lexer": "ipython3",
   "version": "3.7.3"
  }
 },
 "nbformat": 4,
 "nbformat_minor": 2
}
