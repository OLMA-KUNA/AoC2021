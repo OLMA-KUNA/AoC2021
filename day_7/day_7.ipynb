{
 "cells": [
  {
   "cell_type": "code",
   "execution_count": 1,
   "metadata": {},
   "outputs": [],
   "source": [
    "f = open('test.txt', 'r+')\n",
    "my_data = f.read().split(\",\")\n",
    "f.close()\n",
    "my_data_list = [int(numeric_string) for numeric_string in my_data]"
   ]
  },
  {
   "cell_type": "code",
   "execution_count": 2,
   "metadata": {},
   "outputs": [
    {
     "name": "stdout",
     "output_type": "stream",
     "text": [
      "37\n"
     ]
    }
   ],
   "source": [
    "res = 999999999\n",
    "for i in range(max(my_data_list)):\n",
    "    sums = 0\n",
    "    for j in my_data_list:\n",
    "        sums += abs(j-i)\n",
    "    if sums<res:\n",
    "        res=sums\n",
    "        \n",
    "print(res)"
   ]
  },
  {
   "cell_type": "code",
   "execution_count": 3,
   "metadata": {},
   "outputs": [
    {
     "name": "stdout",
     "output_type": "stream",
     "text": [
      "168\n"
     ]
    }
   ],
   "source": [
    "res = 999999999\n",
    "quersums = [0]*2*len(my_data_list)\n",
    "\n",
    "for x in range(1,len(quersums)):\n",
    "    quersums[x] = sum([y for y in range(1,x)])\n",
    "\n",
    "for i in range(max(my_data_list)):\n",
    "    sums = 0\n",
    "    for j in my_data_list:\n",
    "        sums += quersums[(abs(j-i))+1]\n",
    "    if sums<res:\n",
    "        res=sums\n",
    "print(res)"
   ]
  }
 ],
 "metadata": {
  "kernelspec": {
   "display_name": "Python 3",
   "language": "python",
   "name": "python3"
  },
  "language_info": {
   "codemirror_mode": {
    "name": "ipython",
    "version": 3
   },
   "file_extension": ".py",
   "mimetype": "text/x-python",
   "name": "python",
   "nbconvert_exporter": "python",
   "pygments_lexer": "ipython3",
   "version": "3.7.3"
  }
 },
 "nbformat": 4,
 "nbformat_minor": 2
}
